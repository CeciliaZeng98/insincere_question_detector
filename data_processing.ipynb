{
 "cells": [
  {
   "cell_type": "code",
   "execution_count": 4,
   "metadata": {
    "colab": {},
    "colab_type": "code",
    "id": "cmjHfGMSm_8w"
   },
   "outputs": [],
   "source": [
    "import pandas as pd\n",
    "# import fake and real data\n",
    "fake_data = pd.read_csv(\"fake.csv\")\n",
    "real_data = pd.read_csv(\"real.csv\")"
   ]
  },
  {
   "cell_type": "code",
   "execution_count": 5,
   "metadata": {},
   "outputs": [
    {
     "name": "stdout",
     "output_type": "stream",
     "text": [
      "(64774, 2)\n",
      "(64774, 2)\n"
     ]
    }
   ],
   "source": [
    "import numpy as np\n",
    "\n",
    "# drop pid column from data\n",
    "fake_data = fake_data.drop([\"qid\"], axis = 1)\n",
    "real_data = real_data.drop([\"qid\"], axis = 1)\n",
    "\n",
    "fake_arr = np.asarray(fake_data)\n",
    "real_arr = np.asarray(real_data)\n",
    "print(fake_arr.shape)\n",
    "print(real_arr.shape)"
   ]
  },
  {
   "cell_type": "code",
   "execution_count": 6,
   "metadata": {},
   "outputs": [],
   "source": [
    "# show our content\n",
    "all_content = []\n",
    "for content in fake_data.values:\n",
    "    all_content += [content]"
   ]
  },
  {
   "cell_type": "code",
   "execution_count": 7,
   "metadata": {},
   "outputs": [],
   "source": [
    "for content in real_data.values:\n",
    "    all_content += [content]"
   ]
  },
  {
   "cell_type": "code",
   "execution_count": 8,
   "metadata": {},
   "outputs": [],
   "source": [
    "import csv\n",
    "with open('all_contents.csv', 'w') as csvfile:\n",
    "    writer = csv.writer(csvfile, delimiter=',')\n",
    "    writer.writerow([\"question\",\"label\"])\n",
    "    for question, label in all_content:\n",
    "        writer.writerow([question, label])"
   ]
  },
  {
   "cell_type": "code",
   "execution_count": 9,
   "metadata": {},
   "outputs": [
    {
     "data": {
      "text/html": [
       "<div>\n",
       "<style scoped>\n",
       "    .dataframe tbody tr th:only-of-type {\n",
       "        vertical-align: middle;\n",
       "    }\n",
       "\n",
       "    .dataframe tbody tr th {\n",
       "        vertical-align: top;\n",
       "    }\n",
       "\n",
       "    .dataframe thead th {\n",
       "        text-align: right;\n",
       "    }\n",
       "</style>\n",
       "<table border=\"1\" class=\"dataframe\">\n",
       "  <thead>\n",
       "    <tr style=\"text-align: right;\">\n",
       "      <th></th>\n",
       "      <th>question</th>\n",
       "      <th>label</th>\n",
       "    </tr>\n",
       "  </thead>\n",
       "  <tbody>\n",
       "    <tr>\n",
       "      <td>0</td>\n",
       "      <td>Has the United States become the largest dicta...</td>\n",
       "      <td>1</td>\n",
       "    </tr>\n",
       "    <tr>\n",
       "      <td>1</td>\n",
       "      <td>Which babies are more sweeter to their parents...</td>\n",
       "      <td>1</td>\n",
       "    </tr>\n",
       "    <tr>\n",
       "      <td>2</td>\n",
       "      <td>If blacks support school choice and mandatory ...</td>\n",
       "      <td>1</td>\n",
       "    </tr>\n",
       "    <tr>\n",
       "      <td>3</td>\n",
       "      <td>I am gay boy and I love my cousin (boy). He is...</td>\n",
       "      <td>1</td>\n",
       "    </tr>\n",
       "    <tr>\n",
       "      <td>4</td>\n",
       "      <td>Which races have the smallest penis?</td>\n",
       "      <td>1</td>\n",
       "    </tr>\n",
       "    <tr>\n",
       "      <td>...</td>\n",
       "      <td>...</td>\n",
       "      <td>...</td>\n",
       "    </tr>\n",
       "    <tr>\n",
       "      <td>129543</td>\n",
       "      <td>Was there opposition to making the American fl...</td>\n",
       "      <td>0</td>\n",
       "    </tr>\n",
       "    <tr>\n",
       "      <td>129544</td>\n",
       "      <td>What should I do if my crush is dating with so...</td>\n",
       "      <td>0</td>\n",
       "    </tr>\n",
       "    <tr>\n",
       "      <td>129545</td>\n",
       "      <td>How has MCU impacted the comics?</td>\n",
       "      <td>0</td>\n",
       "    </tr>\n",
       "    <tr>\n",
       "      <td>129546</td>\n",
       "      <td>Can it happen that somehow the direction of or...</td>\n",
       "      <td>0</td>\n",
       "    </tr>\n",
       "    <tr>\n",
       "      <td>129547</td>\n",
       "      <td>Do born-deaf people think with signs?</td>\n",
       "      <td>0</td>\n",
       "    </tr>\n",
       "  </tbody>\n",
       "</table>\n",
       "<p>129548 rows × 2 columns</p>\n",
       "</div>"
      ],
      "text/plain": [
       "                                                 question  label\n",
       "0       Has the United States become the largest dicta...      1\n",
       "1       Which babies are more sweeter to their parents...      1\n",
       "2       If blacks support school choice and mandatory ...      1\n",
       "3       I am gay boy and I love my cousin (boy). He is...      1\n",
       "4                    Which races have the smallest penis?      1\n",
       "...                                                   ...    ...\n",
       "129543  Was there opposition to making the American fl...      0\n",
       "129544  What should I do if my crush is dating with so...      0\n",
       "129545                   How has MCU impacted the comics?      0\n",
       "129546  Can it happen that somehow the direction of or...      0\n",
       "129547              Do born-deaf people think with signs?      0\n",
       "\n",
       "[129548 rows x 2 columns]"
      ]
     },
     "execution_count": 9,
     "metadata": {},
     "output_type": "execute_result"
    }
   ],
   "source": [
    "pd.read_csv(\"all_contents.csv\")"
   ]
  },
  {
   "cell_type": "code",
   "execution_count": 15,
   "metadata": {},
   "outputs": [
    {
     "name": "stdout",
     "output_type": "stream",
     "text": [
      "66428\n"
     ]
    }
   ],
   "source": [
    "# build a dictionary for words in the question\n",
    "\n",
    "dict = {}\n",
    "idx = 0\n",
    "\n",
    "import re\n",
    "alldata = [fake_arr, real_arr]\n",
    "for data in alldata:\n",
    "    for i in range(np.shape(data)[0]):\n",
    "        if((type(data[i,0]) is not str)):\n",
    "            continue;\n",
    "        content = re.sub(r'[^\\w\\s]','',data[i,0]).upper().split()\n",
    "        for item in content:\n",
    "            if(dict.get(item) is None):\n",
    "                dict[item]=idx;\n",
    "                idx+=1;\n",
    "print(len([*dict]))"
   ]
  },
  {
   "cell_type": "code",
   "execution_count": 16,
   "metadata": {},
   "outputs": [
    {
     "name": "stdout",
     "output_type": "stream",
     "text": [
      "(129548, 66428)\n"
     ]
    }
   ],
   "source": [
    "# create features matrix, with dimension dataset_len * word_len\n",
    "\n",
    "dataset_length = np.shape(fake_arr)[0] + np.shape(real_arr)[0]\n",
    "word_len = len([*dict])\n",
    "features = np.zeros((dataset_length, word_len))\n",
    "idx = 0;\n",
    "for data in alldata:\n",
    "    for i in range(np.shape(data)[0]):\n",
    "        if((type(data[i,0]) is not str)):\n",
    "            continue;\n",
    "        content = re.sub(r'[^\\w\\s]','',data[i,0]).upper().split()\n",
    "        for item in content:\n",
    "            features[idx, dict[item]] += 1\n",
    "        idx += 1\n",
    "        #print(idx)\n",
    "    \n",
    "print(features.shape)"
   ]
  },
  {
   "cell_type": "code",
   "execution_count": 27,
   "metadata": {},
   "outputs": [
    {
     "name": "stdout",
     "output_type": "stream",
     "text": [
      "129548\n"
     ]
    }
   ],
   "source": [
    "# create labels\n",
    "\n",
    "real_len = np.shape(real_arr)[0]\n",
    "labels = [0]*(dataset_length-real_len)\n",
    "pos = [1]*real_len\n",
    "labels.extend(pos)\n",
    "print(len(labels))"
   ]
  },
  {
   "cell_type": "code",
   "execution_count": 28,
   "metadata": {},
   "outputs": [],
   "source": [
    "# shuffle dataset and create index\n",
    "index = np.arange(0,dataset_length)\n",
    "np.random.shuffle(index)\n",
    "np.save(\"question_index.npy\",index)"
   ]
  },
  {
   "cell_type": "code",
   "execution_count": 29,
   "metadata": {},
   "outputs": [],
   "source": [
    "# split the training data into 4 subsets to ensure loading works good\n",
    "training_index1 = index[:int(dataset_length*0.2)]\n",
    "training_features1 = np.take(features, training_index1, axis=0)\n",
    "training_labels1 = np.take(labels, training_index1)"
   ]
  },
  {
   "cell_type": "code",
   "execution_count": 30,
   "metadata": {},
   "outputs": [
    {
     "data": {
      "text/plain": [
       "(25909, 66428)"
      ]
     },
     "execution_count": 30,
     "metadata": {},
     "output_type": "execute_result"
    }
   ],
   "source": [
    "training_features1.shape"
   ]
  },
  {
   "cell_type": "code",
   "execution_count": 31,
   "metadata": {},
   "outputs": [],
   "source": [
    "np.save(\"training_features1.npy\",training_features1)\n",
    "np.save(\"training_labels1.npy\",training_labels1)"
   ]
  },
  {
   "cell_type": "code",
   "execution_count": 32,
   "metadata": {},
   "outputs": [],
   "source": [
    "training_index2 = index[int(dataset_length*0.2):int(dataset_length*0.4)]\n",
    "training_features2 = np.take(features, training_index2, axis=0)\n",
    "training_labels2 = np.take(labels, training_index2)"
   ]
  },
  {
   "cell_type": "code",
   "execution_count": 33,
   "metadata": {},
   "outputs": [
    {
     "data": {
      "text/plain": [
       "(25910, 66428)"
      ]
     },
     "execution_count": 33,
     "metadata": {},
     "output_type": "execute_result"
    }
   ],
   "source": [
    "training_features2.shape"
   ]
  },
  {
   "cell_type": "code",
   "execution_count": 34,
   "metadata": {},
   "outputs": [],
   "source": [
    "np.save(\"training_features2.npy\",training_features2)\n",
    "np.save(\"training_labels2.npy\",training_labels2)"
   ]
  },
  {
   "cell_type": "code",
   "execution_count": 35,
   "metadata": {},
   "outputs": [],
   "source": [
    "training_index3 = index[int(dataset_length*0.4):int(dataset_length*0.6)]\n",
    "training_features3 = np.take(features, training_index3, axis=0)\n",
    "training_labels3 = np.take(labels, training_index3)"
   ]
  },
  {
   "cell_type": "code",
   "execution_count": 36,
   "metadata": {},
   "outputs": [
    {
     "data": {
      "text/plain": [
       "(25909, 66428)"
      ]
     },
     "execution_count": 36,
     "metadata": {},
     "output_type": "execute_result"
    }
   ],
   "source": [
    "training_features3.shape"
   ]
  },
  {
   "cell_type": "code",
   "execution_count": 37,
   "metadata": {},
   "outputs": [],
   "source": [
    "np.save(\"training_features3.npy\",training_features3)\n",
    "np.save(\"training_labels3.npy\",training_labels3)"
   ]
  },
  {
   "cell_type": "code",
   "execution_count": 38,
   "metadata": {},
   "outputs": [],
   "source": [
    "training_index4 = index[int(dataset_length*0.6):int(dataset_length*0.8)]\n",
    "training_features4 = np.take(features, training_index4, axis=0)\n",
    "training_labels4 = np.take(labels, training_index4)"
   ]
  },
  {
   "cell_type": "code",
   "execution_count": 39,
   "metadata": {},
   "outputs": [
    {
     "data": {
      "text/plain": [
       "(25910, 66428)"
      ]
     },
     "execution_count": 39,
     "metadata": {},
     "output_type": "execute_result"
    }
   ],
   "source": [
    "training_features4.shape"
   ]
  },
  {
   "cell_type": "code",
   "execution_count": 40,
   "metadata": {},
   "outputs": [],
   "source": [
    "np.save(\"training_features4.npy\",training_features4)\n",
    "np.save(\"training_labels4.npy\",training_labels4)"
   ]
  },
  {
   "cell_type": "code",
   "execution_count": 41,
   "metadata": {},
   "outputs": [],
   "source": [
    "test_index = index[int(dataset_length*0.8):int(dataset_length*0.9)]\n",
    "test_features = np.take(features, test_index, axis=0)\n",
    "test_labels = np.take(labels, test_index)"
   ]
  },
  {
   "cell_type": "code",
   "execution_count": 42,
   "metadata": {},
   "outputs": [
    {
     "data": {
      "text/plain": [
       "(12955, 66428)"
      ]
     },
     "execution_count": 42,
     "metadata": {},
     "output_type": "execute_result"
    }
   ],
   "source": [
    "test_features.shape"
   ]
  },
  {
   "cell_type": "code",
   "execution_count": 43,
   "metadata": {},
   "outputs": [],
   "source": [
    "np.save(\"test_features.npy\",test_features)\n",
    "np.save(\"test_labels.npy\",test_labels)"
   ]
  },
  {
   "cell_type": "code",
   "execution_count": 44,
   "metadata": {},
   "outputs": [],
   "source": [
    "validation_index = index[int(dataset_length*0.9):]\n",
    "validation_features = np.take(features, validation_index, axis=0)\n",
    "validation_labels = np.take(labels, validation_index)"
   ]
  },
  {
   "cell_type": "code",
   "execution_count": 45,
   "metadata": {},
   "outputs": [
    {
     "data": {
      "text/plain": [
       "(12955, 66428)"
      ]
     },
     "execution_count": 45,
     "metadata": {},
     "output_type": "execute_result"
    }
   ],
   "source": [
    "validation_features.shape"
   ]
  },
  {
   "cell_type": "code",
   "execution_count": 46,
   "metadata": {},
   "outputs": [],
   "source": [
    "np.save(\"validation_features.npy\", validation_features)\n",
    "np.save(\"validation_labels.npy\", validation_labels)"
   ]
  },
  {
   "cell_type": "code",
   "execution_count": null,
   "metadata": {},
   "outputs": [],
   "source": []
  },
  {
   "cell_type": "code",
   "execution_count": null,
   "metadata": {},
   "outputs": [],
   "source": []
  },
  {
   "cell_type": "code",
   "execution_count": null,
   "metadata": {},
   "outputs": [],
   "source": []
  },
  {
   "cell_type": "code",
   "execution_count": null,
   "metadata": {},
   "outputs": [],
   "source": []
  },
  {
   "cell_type": "code",
   "execution_count": null,
   "metadata": {},
   "outputs": [],
   "source": []
  }
 ],
 "metadata": {
  "colab": {
   "collapsed_sections": [],
   "name": "data_processing.ipynb",
   "provenance": []
  },
  "kernelspec": {
   "display_name": "Python 3",
   "language": "python",
   "name": "python3"
  },
  "language_info": {
   "codemirror_mode": {
    "name": "ipython",
    "version": 3
   },
   "file_extension": ".py",
   "mimetype": "text/x-python",
   "name": "python",
   "nbconvert_exporter": "python",
   "pygments_lexer": "ipython3",
   "version": "3.7.4"
  }
 },
 "nbformat": 4,
 "nbformat_minor": 1
}
