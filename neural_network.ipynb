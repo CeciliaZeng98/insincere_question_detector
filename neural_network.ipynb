{
 "cells": [
  {
   "cell_type": "code",
   "execution_count": 22,
   "metadata": {},
   "outputs": [],
   "source": [
    "import numpy as np"
   ]
  },
  {
   "cell_type": "code",
   "execution_count": 23,
   "metadata": {},
   "outputs": [],
   "source": [
    "training_features1 = np.load('training_features1.npy')"
   ]
  },
  {
   "cell_type": "code",
   "execution_count": 24,
   "metadata": {},
   "outputs": [],
   "source": [
    "training_labels1 = np.load('training_labels1.npy')"
   ]
  },
  {
   "cell_type": "code",
   "execution_count": 25,
   "metadata": {},
   "outputs": [],
   "source": [
    "training_features2 = np.load('training_features2.npy')"
   ]
  },
  {
   "cell_type": "code",
   "execution_count": 26,
   "metadata": {},
   "outputs": [],
   "source": [
    "training_labels2 = np.load('training_labels2.npy')"
   ]
  },
  {
   "cell_type": "code",
   "execution_count": 27,
   "metadata": {},
   "outputs": [],
   "source": [
    "training_features3 = np.load('training_features3.npy')"
   ]
  },
  {
   "cell_type": "code",
   "execution_count": 28,
   "metadata": {},
   "outputs": [],
   "source": [
    "training_labels3 = np.load('training_labels3.npy')"
   ]
  },
  {
   "cell_type": "code",
   "execution_count": 29,
   "metadata": {},
   "outputs": [],
   "source": [
    "training_features4 = np.load('training_features4.npy')"
   ]
  },
  {
   "cell_type": "code",
   "execution_count": 30,
   "metadata": {},
   "outputs": [],
   "source": [
    "training_labels4 = np.load('training_labels4.npy')"
   ]
  },
  {
   "cell_type": "code",
   "execution_count": 31,
   "metadata": {},
   "outputs": [],
   "source": [
    "validation_features = np.load('validation_features.npy')"
   ]
  },
  {
   "cell_type": "code",
   "execution_count": 32,
   "metadata": {},
   "outputs": [],
   "source": [
    "validation_labels = np.load('validation_labels.npy')"
   ]
  },
  {
   "cell_type": "code",
   "execution_count": 33,
   "metadata": {},
   "outputs": [],
   "source": [
    "test_features = np.load('test_features.npy')"
   ]
  },
  {
   "cell_type": "code",
   "execution_count": 34,
   "metadata": {},
   "outputs": [],
   "source": [
    "test_labels = np.load('test_labels.npy')"
   ]
  },
  {
   "cell_type": "code",
   "execution_count": 35,
   "metadata": {},
   "outputs": [
    {
     "name": "stdout",
     "output_type": "stream",
     "text": [
      "(103638, 66428)\n",
      "(103638,)\n"
     ]
    }
   ],
   "source": [
    "training_features = np.concatenate((training_features1, training_features2, training_features3, training_features4))\n",
    "training_labels = np.concatenate((training_labels1, training_labels2, training_labels3, training_labels4))\n",
    "print(training_features.shape)\n",
    "print(training_labels.shape)"
   ]
  },
  {
   "cell_type": "code",
   "execution_count": 36,
   "metadata": {},
   "outputs": [],
   "source": [
    "from keras.models import *\n",
    "from keras.optimizers import *\n",
    "from keras.layers import *"
   ]
  },
  {
   "cell_type": "code",
   "execution_count": 37,
   "metadata": {},
   "outputs": [],
   "source": [
    "def model(input_size=(66428,)):\n",
    "    inputs = Input(input_size)\n",
    "    X1 = Dense(30, activation='relu')(inputs)\n",
    "    X2 = Dense(20, activation='relu')(X1)\n",
    "    X3 = Dense(20, activation='relu')(X2)\n",
    "    X4 = Dense(10, activation='relu')(X3)\n",
    "    X5 = Dense(10, activation='relu')(X4)\n",
    "    X6 = Dense(4, activation='relu')(X5)\n",
    "    X7 = Dense(1, activation='relu')(X6)\n",
    "    outputs = Dense(1, activation='sigmoid')(X7)\n",
    "    \n",
    "    model = Model(input=inputs, output=outputs)\n",
    "    model.compile(optimizer=Adam(lr=1e-4), loss=\"binary_crossentropy\", metrics=['accuracy'], )\n",
    "    model.summary()\n",
    "\n",
    "    return model"
   ]
  },
  {
   "cell_type": "code",
   "execution_count": 38,
   "metadata": {},
   "outputs": [
    {
     "name": "stdout",
     "output_type": "stream",
     "text": [
      "Model: \"model_2\"\n",
      "_________________________________________________________________\n",
      "Layer (type)                 Output Shape              Param #   \n",
      "=================================================================\n",
      "input_2 (InputLayer)         (None, 66428)             0         \n",
      "_________________________________________________________________\n",
      "dense_9 (Dense)              (None, 30)                1992870   \n",
      "_________________________________________________________________\n",
      "dense_10 (Dense)             (None, 20)                620       \n",
      "_________________________________________________________________\n",
      "dense_11 (Dense)             (None, 20)                420       \n",
      "_________________________________________________________________\n",
      "dense_12 (Dense)             (None, 10)                210       \n",
      "_________________________________________________________________\n",
      "dense_13 (Dense)             (None, 10)                110       \n",
      "_________________________________________________________________\n",
      "dense_14 (Dense)             (None, 4)                 44        \n",
      "_________________________________________________________________\n",
      "dense_15 (Dense)             (None, 1)                 5         \n",
      "_________________________________________________________________\n",
      "dense_16 (Dense)             (None, 1)                 2         \n",
      "=================================================================\n",
      "Total params: 1,994,281\n",
      "Trainable params: 1,994,281\n",
      "Non-trainable params: 0\n",
      "_________________________________________________________________\n"
     ]
    },
    {
     "name": "stderr",
     "output_type": "stream",
     "text": [
      "/Users/yongjia/opt/anaconda3/lib/python3.7/site-packages/ipykernel_launcher.py:12: UserWarning: Update your `Model` call to the Keras 2 API: `Model(inputs=Tensor(\"in..., outputs=Tensor(\"de...)`\n",
      "  if sys.path[0] == '':\n"
     ]
    },
    {
     "name": "stdout",
     "output_type": "stream",
     "text": [
      "Train on 103638 samples, validate on 12955 samples\n",
      "Epoch 1/12\n",
      "103638/103638 [==============================] - 58s 562us/step - loss: 0.6268 - accuracy: 0.7356 - val_loss: 0.5319 - val_accuracy: 0.8428\n",
      "Epoch 2/12\n",
      "103638/103638 [==============================] - 57s 546us/step - loss: 0.4870 - accuracy: 0.8762 - val_loss: 0.4731 - val_accuracy: 0.8798\n",
      "Epoch 3/12\n",
      "103638/103638 [==============================] - 58s 560us/step - loss: 0.4372 - accuracy: 0.9046 - val_loss: 0.4629 - val_accuracy: 0.8843\n",
      "Epoch 4/12\n",
      "103638/103638 [==============================] - 58s 557us/step - loss: 0.4080 - accuracy: 0.9176 - val_loss: 0.4612 - val_accuracy: 0.8828\n",
      "Epoch 5/12\n",
      "103638/103638 [==============================] - 58s 556us/step - loss: 0.3867 - accuracy: 0.9261 - val_loss: 0.4645 - val_accuracy: 0.8826\n",
      "Epoch 6/12\n",
      "103638/103638 [==============================] - 57s 549us/step - loss: 0.3699 - accuracy: 0.9315 - val_loss: 0.4692 - val_accuracy: 0.8804\n",
      "Epoch 7/12\n",
      "103638/103638 [==============================] - 57s 547us/step - loss: 0.3558 - accuracy: 0.9358 - val_loss: 0.4831 - val_accuracy: 0.8797\n",
      "Epoch 8/12\n",
      "103638/103638 [==============================] - 57s 548us/step - loss: 0.3440 - accuracy: 0.9394 - val_loss: 0.4911 - val_accuracy: 0.8783\n",
      "Epoch 9/12\n",
      "103638/103638 [==============================] - 57s 547us/step - loss: 0.3334 - accuracy: 0.9423 - val_loss: 0.5031 - val_accuracy: 0.8765\n",
      "Epoch 10/12\n",
      "103638/103638 [==============================] - 57s 547us/step - loss: 0.3241 - accuracy: 0.9442 - val_loss: 0.4875 - val_accuracy: 0.8739\n",
      "Epoch 11/12\n",
      "103638/103638 [==============================] - 57s 547us/step - loss: 0.3154 - accuracy: 0.9458 - val_loss: 0.5171 - val_accuracy: 0.8756\n",
      "Epoch 12/12\n",
      "103638/103638 [==============================] - 57s 548us/step - loss: 0.3077 - accuracy: 0.9474 - val_loss: 0.5228 - val_accuracy: 0.8743\n"
     ]
    },
    {
     "data": {
      "text/plain": [
       "<keras.callbacks.callbacks.History at 0x7fddf0c848d0>"
      ]
     },
     "execution_count": 38,
     "metadata": {},
     "output_type": "execute_result"
    }
   ],
   "source": [
    "model = model()\n",
    "model.fit(training_features, training_labels, epochs=12, batch_size=300, validation_data=(validation_features,validation_labels))"
   ]
  },
  {
   "cell_type": "code",
   "execution_count": 39,
   "metadata": {},
   "outputs": [
    {
     "name": "stdout",
     "output_type": "stream",
     "text": [
      "11354.0\n",
      "number of examples: 12955\n",
      "Test accuracy:  0.876418371285218\n"
     ]
    }
   ],
   "source": [
    "test_pred = model.predict(test_features, batch_size=300)\n",
    "test_pred = test_pred>0.5\n",
    "test_labels = test_labels.reshape((12955, 1))\n",
    "print(1.0*np.sum(test_pred==test_labels))\n",
    "print('number of examples: '+str(test_labels.shape[0]))\n",
    "test_accuracy = (1.0*np.sum(test_pred==test_labels))/(1.0*test_labels.shape[0])\n",
    "print('Test accuracy:  '+str(test_accuracy))"
   ]
  },
  {
   "cell_type": "code",
   "execution_count": null,
   "metadata": {},
   "outputs": [],
   "source": []
  }
 ],
 "metadata": {
  "kernelspec": {
   "display_name": "Python 3",
   "language": "python",
   "name": "python3"
  },
  "language_info": {
   "codemirror_mode": {
    "name": "ipython",
    "version": 3
   },
   "file_extension": ".py",
   "mimetype": "text/x-python",
   "name": "python",
   "nbconvert_exporter": "python",
   "pygments_lexer": "ipython3",
   "version": "3.7.4"
  }
 },
 "nbformat": 4,
 "nbformat_minor": 2
}
